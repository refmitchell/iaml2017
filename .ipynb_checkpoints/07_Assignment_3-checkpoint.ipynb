{
 "cells": [
  {
   "cell_type": "markdown",
   "metadata": {},
   "source": [
    "# Introductory applied machine learning (INFR10069)"
   ]
  },
  {
   "cell_type": "markdown",
   "metadata": {},
   "source": [
    "# Assignment 3: Object recognition"
   ]
  },
  {
   "cell_type": "markdown",
   "metadata": {},
   "source": [
    "## Marking Breakdown\n",
    "\n",
    "**70-100%** results/answer correct plus extra achievement at understanding or analysis of results. Clear explanations, evidence of creative or deeper thought will contribute to a higher grade.\n",
    "\n",
    "**60-69%** results/answer correct or nearly correct and well explained.\n",
    "\n",
    "**50-59%** results/answer in right direction but significant errors.\n",
    "\n",
    "**40-49%** some evidence that the student has gained some understanding, but not answered the questions\n",
    "properly.\n",
    "\n",
    "**0-39%** serious error or slack work."
   ]
  },
  {
   "cell_type": "markdown",
   "metadata": {},
   "source": [
    "## Mechanics\n",
    "\n",
    "Fill out this notebook, save it, and submit it **and a `.txt` file** (see Part 2) in answer to this assignment.\n",
    "**You need to submit these two files electronically as described below.**\n",
    "\n",
    "On a DICE environment, open the terminal, navigate to the location of this notebook, and submit this notebook file using the following command:\n",
    "\n",
    "`submit iaml cw2 07_Assignment_3.ipynb assignment_3_predictions.txt`\n",
    "\n",
    "What actually happens in the background is that your file is placed in a folder available to markers. If you submit a file with the same name into the same location, **it will *overwrite* your previous submission**. You can check the status of your submissions with the `show_submissions` command.\n",
    "\n",
    "**Distance Learners:** To copy your work up to DICE (such that you can use the `submit` command) you can use `scp` or `rsync` (you may need to install these yourself). You can copy files up using `student.ssh.inf.ed.ac.uk`, then ssh in to submit, e.g. (in a unix terminal):\n",
    "```\n",
    "filename1=07_Assignment_3.ipynb\n",
    "local_scp_filepath1=~/git/iaml2017/${filename1}\n",
    "filename2=assignment_3_predictions.txt\n",
    "local_scp_filepath2=~/git/iaml2017/${filename2}\n",
    "UUN=s0816700\n",
    "server_address=student.ssh.inf.ed.ac.uk\n",
    "scp -r ${local_scp_filepath1} ${UUN}@${server_address}:${filename1}\n",
    "scp -r ${local_scp_filepath2} ${UUN}@${server_address}:${filename2}\n",
    "# rsync -rl ${local_scp_filepath1} ${UUN}@${server_address}:${filename1}\n",
    "# rsync -rl ${local_scp_filepath2} ${UUN}@${server_address}:${filename2}\n",
    "ssh ${UUN}@${server_address}\n",
    "ssh student.login\n",
    "submit iaml cw2 07_Assignment_3.ipynb assignment_3_predictions.txt\n",
    "```\n",
    "\n",
    "**Late submissions:** The policy stated in the School of Informatics MSc Degree Guide is that normally you will not be allowed to submit coursework late. See http://www.inf.ed.ac.uk/teaching/years/msc/courseguide10.html#exam for exceptions to this, e.g. in case of serious medical illness or serious personal problems.\n",
    "\n",
    "**Collaboration:** You may discuss the assignment with your colleagues, provided that the writing that you submit is entirely your own. That is, you should NOT borrow actual text or code from other students. We ask that you provide a list of the people who you've had discussions with (if any).\n",
    "\n",
    "**Resubmission:** If you submit your file again, the previous submission is **overwritten**. We will mark the version that is in the submission folder at the deadline."
   ]
  },
  {
   "cell_type": "markdown",
   "metadata": {},
   "source": [
    "## Important Instructions\n",
    "\n",
    "1. You *MUST* have your environment set up as in the [README](https://github.com/JamesOwers/iaml2017) and you *must activate this environment before running this notebook*:\n",
    "```\n",
    "source activate iaml\n",
    "cd iaml_2017\n",
    "jupyter notebook\n",
    "# Navigate to this file\n",
    "```\n",
    "\n",
    "1. Wherever you are required to produce code you should use code cells, otherwise you should use markdown cells to report results and explain answers.\n",
    "\n",
    "1. The .csv files that you will be using are located at `./datasets` (the `datasets` directory is adjacent to this file).\n",
    "\n",
    "1. **IMPORTANT:** Keep your answers brief and concise. Most written questions can be answered with 2-3 lines of explanation."
   ]
  },
  {
   "cell_type": "markdown",
   "metadata": {},
   "source": [
    "## Imports\n",
    "\n",
    "Include all required imports and execute the cell below. It's typical to include package imports at the top of the file for clarity."
   ]
  },
  {
   "cell_type": "code",
   "execution_count": 67,
   "metadata": {
    "collapsed": true
   },
   "outputs": [],
   "source": [
    "from __future__ import print_function, division\n",
    "%matplotlib inline\n",
    "\n",
    "import os\n",
    "import pandas as pd\n",
    "import seaborn as sns\n",
    "import matplotlib.pyplot as plt\n",
    "import numpy as np\n",
    "from sklearn.dummy import DummyClassifier\n",
    "from sklearn.linear_model import LogisticRegression, LogisticRegressionCV\n",
    "from sklearn.preprocessing import StandardScaler\n",
    "from sklearn.model_selection import KFold\n",
    "from sklearn.ensemble import RandomForestClassifier\n",
    "from sklearn.svm import SVC"
   ]
  },
  {
   "cell_type": "markdown",
   "metadata": {},
   "source": [
    "## Description of the dataset\n",
    "In this assignment our goal is to recognize objects in images of realistic scenes. There are 19 different classes of object e.g. person, dog, cat, car, etc. The dataset derives from several thousands photographs harvested from the web. Each object of a relevant class has been manually annotated with a bounding box. Images can contain none, one or multiple objects of each class. We have prepared a [website](http://www.inf.ed.ac.uk/teaching/courses/iaml/2014/assts/asst3/images.html) where you can view the images.\n",
    "\n",
    "We are going to detect whether images contain a person or not - a binary classification problem. To save you time and to make the problem manageable with limited computational resources, we have preprocessed the dataset. We will use the [Bag of Visual Words](https://en.wikipedia.org/wiki/Bag-of-words_model_in_computer_vision) representation. Each column of the dataset (which is not an lable), refers to a 'visual word'. Each image is represented by a 500 dimensional vector that contains the normalized count for each of 500 different visual words present in the respective image (a similar representation is used for the spambase dataset, just for real words). See the Appendix at the bottom of the notebook for more information. The image data is thus a $N \\times 500$ dimensional matrix where `N` is the number of images.\n",
    "\n",
    "The full dataset has 520 attributes (dimensions). The first attribute (`imgID`) contains the image ID which allows you to associate a data point with an actual image. The next 500 attributes (`dim1`, ..., `dim500`) are a normalized count vector for each visual word. The last 19 attributes (`is_class`) are the labels - 1 means the class is present in the image. In most of the experiments (unless explicitly noted otherwise) you will only need the `is_person` attribute and the 500 dimensional feature vector. **Do not use the additional class indicator attributes as features** unless explicitly told to do so. \n",
    "\n",
    "In Part A we provide you with a training (`train_images partA.csv`) and a validation (`valid_images partA .csv`) dataset. In Part B we provide three data sets: a training set (`train_images partB.csv`), a validation set (`valid_images partB.csv`), and a test set (`test_images partB.csv`). The training and validation set contain valid labels. In the test set the labels are missing. The files are available from the GitHub repository. \n",
    "\n",
    "**Important**: *Throughout the assignment you will be given various versions of the dataset that are relevant\n",
    "to a particular question. Please be careful to use the correct version of the dataset when instructed to do so.\n",
    "If you use the wrong version of the dataset by mistake no marks will be awarded.*"
   ]
  },
  {
   "cell_type": "markdown",
   "metadata": {},
   "source": [
    "## 1. Exploration of the dataset [70%]"
   ]
  },
  {
   "cell_type": "markdown",
   "metadata": {},
   "source": [
    "### ========== Question 1.1 --- [1 mark] ==========\n",
    "Create two Pandas DataFrame objects called `train_A` and `valid_A` by loading the datasets `train_images_partA.csv` and `valid_images_partA.csv`. Display the number of data points and attributes in each of the two datasets."
   ]
  },
  {
   "cell_type": "code",
   "execution_count": 68,
   "metadata": {},
   "outputs": [
    {
     "name": "stdout",
     "output_type": "stream",
     "text": [
      "Number of data points in the training set : 2093\n",
      "Number of attributes in the training set : 520\n",
      "\n",
      "Number of data points in the validation set : 1113\n",
      "Number of attributes in the validation set : 520\n"
     ]
    }
   ],
   "source": [
    "#Load the datasets into relevant variables\n",
    "data_path_train_A = os.path.join(os.getcwd(), 'datasets', 'train_images_partA.csv')\n",
    "train_A = pd.read_csv(data_path_train_A, delimiter = ',')\n",
    "\n",
    "data_path_valid_A = os.path.join(os.getcwd(), 'datasets', 'valid_images_partA.csv')\n",
    "valid_A = pd.read_csv(data_path_valid_A, delimiter = ',')\n",
    "\n",
    "\n",
    "print(\"Number of data points in the training set : {}\".format(train_A.shape[0]))\n",
    "print(\"Number of attributes in the training set : {}\".format(train_A.shape[1]))\n",
    "print(\"\\nNumber of data points in the validation set : {}\".format(valid_A.shape[0]))\n",
    "print(\"Number of attributes in the validation set : {}\".format(valid_A.shape[1]))"
   ]
  },
  {
   "cell_type": "markdown",
   "metadata": {},
   "source": [
    "### ========== Question 1.2 --- [1 mark] ==========\n",
    "Display and inspect the first 10 instances in the training dataset."
   ]
  },
  {
   "cell_type": "code",
   "execution_count": 69,
   "metadata": {},
   "outputs": [
    {
     "name": "stdout",
     "output_type": "stream",
     "text": [
      "First ten instances of train_A\n"
     ]
    },
    {
     "data": {
      "text/html": [
       "<div>\n",
       "<style>\n",
       "    .dataframe thead tr:only-child th {\n",
       "        text-align: right;\n",
       "    }\n",
       "\n",
       "    .dataframe thead th {\n",
       "        text-align: left;\n",
       "    }\n",
       "\n",
       "    .dataframe tbody tr th {\n",
       "        vertical-align: top;\n",
       "    }\n",
       "</style>\n",
       "<table border=\"1\" class=\"dataframe\">\n",
       "  <thead>\n",
       "    <tr style=\"text-align: right;\">\n",
       "      <th></th>\n",
       "      <th>imgId</th>\n",
       "      <th>dim1</th>\n",
       "      <th>dim2</th>\n",
       "      <th>dim3</th>\n",
       "      <th>dim4</th>\n",
       "      <th>dim5</th>\n",
       "      <th>dim6</th>\n",
       "      <th>dim7</th>\n",
       "      <th>dim8</th>\n",
       "      <th>dim9</th>\n",
       "      <th>...</th>\n",
       "      <th>is_cow</th>\n",
       "      <th>is_diningtable</th>\n",
       "      <th>is_dog</th>\n",
       "      <th>is_horse</th>\n",
       "      <th>is_motorbike</th>\n",
       "      <th>is_person</th>\n",
       "      <th>is_pottedplant</th>\n",
       "      <th>is_sheep</th>\n",
       "      <th>is_sofa</th>\n",
       "      <th>is_tvmonitor</th>\n",
       "    </tr>\n",
       "  </thead>\n",
       "  <tbody>\n",
       "    <tr>\n",
       "      <th>0</th>\n",
       "      <td>2008_000008</td>\n",
       "      <td>0.002232</td>\n",
       "      <td>0.000558</td>\n",
       "      <td>0.002790</td>\n",
       "      <td>0.000837</td>\n",
       "      <td>0.001674</td>\n",
       "      <td>0.001953</td>\n",
       "      <td>0.001395</td>\n",
       "      <td>0.002232</td>\n",
       "      <td>0.003627</td>\n",
       "      <td>...</td>\n",
       "      <td>0</td>\n",
       "      <td>0</td>\n",
       "      <td>0</td>\n",
       "      <td>1</td>\n",
       "      <td>0</td>\n",
       "      <td>1</td>\n",
       "      <td>0</td>\n",
       "      <td>0</td>\n",
       "      <td>0</td>\n",
       "      <td>0</td>\n",
       "    </tr>\n",
       "    <tr>\n",
       "      <th>1</th>\n",
       "      <td>2008_000015</td>\n",
       "      <td>0.001563</td>\n",
       "      <td>0.000391</td>\n",
       "      <td>0.007422</td>\n",
       "      <td>0.003516</td>\n",
       "      <td>0.003906</td>\n",
       "      <td>0.005078</td>\n",
       "      <td>0.001953</td>\n",
       "      <td>0.002344</td>\n",
       "      <td>0.001953</td>\n",
       "      <td>...</td>\n",
       "      <td>0</td>\n",
       "      <td>0</td>\n",
       "      <td>0</td>\n",
       "      <td>0</td>\n",
       "      <td>0</td>\n",
       "      <td>0</td>\n",
       "      <td>0</td>\n",
       "      <td>0</td>\n",
       "      <td>0</td>\n",
       "      <td>0</td>\n",
       "    </tr>\n",
       "    <tr>\n",
       "      <th>2</th>\n",
       "      <td>2008_000019</td>\n",
       "      <td>0.000521</td>\n",
       "      <td>0.000000</td>\n",
       "      <td>0.000000</td>\n",
       "      <td>0.001042</td>\n",
       "      <td>0.001563</td>\n",
       "      <td>0.005729</td>\n",
       "      <td>0.000521</td>\n",
       "      <td>0.002083</td>\n",
       "      <td>0.003646</td>\n",
       "      <td>...</td>\n",
       "      <td>0</td>\n",
       "      <td>0</td>\n",
       "      <td>1</td>\n",
       "      <td>0</td>\n",
       "      <td>0</td>\n",
       "      <td>0</td>\n",
       "      <td>0</td>\n",
       "      <td>0</td>\n",
       "      <td>0</td>\n",
       "      <td>0</td>\n",
       "    </tr>\n",
       "    <tr>\n",
       "      <th>3</th>\n",
       "      <td>2008_000023</td>\n",
       "      <td>0.002976</td>\n",
       "      <td>0.002232</td>\n",
       "      <td>0.004464</td>\n",
       "      <td>0.000372</td>\n",
       "      <td>0.000372</td>\n",
       "      <td>0.002232</td>\n",
       "      <td>0.000000</td>\n",
       "      <td>0.003720</td>\n",
       "      <td>0.000000</td>\n",
       "      <td>...</td>\n",
       "      <td>0</td>\n",
       "      <td>0</td>\n",
       "      <td>0</td>\n",
       "      <td>0</td>\n",
       "      <td>0</td>\n",
       "      <td>1</td>\n",
       "      <td>0</td>\n",
       "      <td>0</td>\n",
       "      <td>0</td>\n",
       "      <td>1</td>\n",
       "    </tr>\n",
       "    <tr>\n",
       "      <th>4</th>\n",
       "      <td>2008_000028</td>\n",
       "      <td>0.001359</td>\n",
       "      <td>0.000340</td>\n",
       "      <td>0.001359</td>\n",
       "      <td>0.000340</td>\n",
       "      <td>0.001359</td>\n",
       "      <td>0.002038</td>\n",
       "      <td>0.002378</td>\n",
       "      <td>0.000000</td>\n",
       "      <td>0.003397</td>\n",
       "      <td>...</td>\n",
       "      <td>0</td>\n",
       "      <td>0</td>\n",
       "      <td>0</td>\n",
       "      <td>0</td>\n",
       "      <td>0</td>\n",
       "      <td>0</td>\n",
       "      <td>0</td>\n",
       "      <td>0</td>\n",
       "      <td>0</td>\n",
       "      <td>0</td>\n",
       "    </tr>\n",
       "    <tr>\n",
       "      <th>5</th>\n",
       "      <td>2008_000033</td>\n",
       "      <td>0.000000</td>\n",
       "      <td>0.006324</td>\n",
       "      <td>0.000372</td>\n",
       "      <td>0.000372</td>\n",
       "      <td>0.000372</td>\n",
       "      <td>0.000372</td>\n",
       "      <td>0.000744</td>\n",
       "      <td>0.008185</td>\n",
       "      <td>0.000372</td>\n",
       "      <td>...</td>\n",
       "      <td>0</td>\n",
       "      <td>0</td>\n",
       "      <td>0</td>\n",
       "      <td>0</td>\n",
       "      <td>0</td>\n",
       "      <td>0</td>\n",
       "      <td>0</td>\n",
       "      <td>0</td>\n",
       "      <td>0</td>\n",
       "      <td>0</td>\n",
       "    </tr>\n",
       "    <tr>\n",
       "      <th>6</th>\n",
       "      <td>2008_000036</td>\n",
       "      <td>0.000340</td>\n",
       "      <td>0.000000</td>\n",
       "      <td>0.004416</td>\n",
       "      <td>0.000340</td>\n",
       "      <td>0.000679</td>\n",
       "      <td>0.006114</td>\n",
       "      <td>0.001359</td>\n",
       "      <td>0.002717</td>\n",
       "      <td>0.003057</td>\n",
       "      <td>...</td>\n",
       "      <td>0</td>\n",
       "      <td>0</td>\n",
       "      <td>0</td>\n",
       "      <td>0</td>\n",
       "      <td>0</td>\n",
       "      <td>1</td>\n",
       "      <td>0</td>\n",
       "      <td>0</td>\n",
       "      <td>0</td>\n",
       "      <td>0</td>\n",
       "    </tr>\n",
       "    <tr>\n",
       "      <th>7</th>\n",
       "      <td>2008_000037</td>\n",
       "      <td>0.000837</td>\n",
       "      <td>0.002232</td>\n",
       "      <td>0.000279</td>\n",
       "      <td>0.000279</td>\n",
       "      <td>0.000837</td>\n",
       "      <td>0.000000</td>\n",
       "      <td>0.000279</td>\n",
       "      <td>0.006696</td>\n",
       "      <td>0.000000</td>\n",
       "      <td>...</td>\n",
       "      <td>0</td>\n",
       "      <td>0</td>\n",
       "      <td>0</td>\n",
       "      <td>0</td>\n",
       "      <td>0</td>\n",
       "      <td>0</td>\n",
       "      <td>0</td>\n",
       "      <td>0</td>\n",
       "      <td>0</td>\n",
       "      <td>0</td>\n",
       "    </tr>\n",
       "    <tr>\n",
       "      <th>8</th>\n",
       "      <td>2008_000041</td>\n",
       "      <td>0.002378</td>\n",
       "      <td>0.001359</td>\n",
       "      <td>0.004755</td>\n",
       "      <td>0.001019</td>\n",
       "      <td>0.003736</td>\n",
       "      <td>0.001359</td>\n",
       "      <td>0.001019</td>\n",
       "      <td>0.004076</td>\n",
       "      <td>0.003397</td>\n",
       "      <td>...</td>\n",
       "      <td>0</td>\n",
       "      <td>1</td>\n",
       "      <td>0</td>\n",
       "      <td>0</td>\n",
       "      <td>0</td>\n",
       "      <td>1</td>\n",
       "      <td>0</td>\n",
       "      <td>0</td>\n",
       "      <td>0</td>\n",
       "      <td>0</td>\n",
       "    </tr>\n",
       "    <tr>\n",
       "      <th>9</th>\n",
       "      <td>2008_000045</td>\n",
       "      <td>0.001019</td>\n",
       "      <td>0.000340</td>\n",
       "      <td>0.006454</td>\n",
       "      <td>0.001698</td>\n",
       "      <td>0.001359</td>\n",
       "      <td>0.003736</td>\n",
       "      <td>0.000000</td>\n",
       "      <td>0.004076</td>\n",
       "      <td>0.000000</td>\n",
       "      <td>...</td>\n",
       "      <td>0</td>\n",
       "      <td>0</td>\n",
       "      <td>0</td>\n",
       "      <td>0</td>\n",
       "      <td>0</td>\n",
       "      <td>0</td>\n",
       "      <td>0</td>\n",
       "      <td>0</td>\n",
       "      <td>0</td>\n",
       "      <td>0</td>\n",
       "    </tr>\n",
       "  </tbody>\n",
       "</table>\n",
       "<p>10 rows × 520 columns</p>\n",
       "</div>"
      ],
      "text/plain": [
       "         imgId      dim1      dim2      dim3      dim4      dim5      dim6  \\\n",
       "0  2008_000008  0.002232  0.000558  0.002790  0.000837  0.001674  0.001953   \n",
       "1  2008_000015  0.001563  0.000391  0.007422  0.003516  0.003906  0.005078   \n",
       "2  2008_000019  0.000521  0.000000  0.000000  0.001042  0.001563  0.005729   \n",
       "3  2008_000023  0.002976  0.002232  0.004464  0.000372  0.000372  0.002232   \n",
       "4  2008_000028  0.001359  0.000340  0.001359  0.000340  0.001359  0.002038   \n",
       "5  2008_000033  0.000000  0.006324  0.000372  0.000372  0.000372  0.000372   \n",
       "6  2008_000036  0.000340  0.000000  0.004416  0.000340  0.000679  0.006114   \n",
       "7  2008_000037  0.000837  0.002232  0.000279  0.000279  0.000837  0.000000   \n",
       "8  2008_000041  0.002378  0.001359  0.004755  0.001019  0.003736  0.001359   \n",
       "9  2008_000045  0.001019  0.000340  0.006454  0.001698  0.001359  0.003736   \n",
       "\n",
       "       dim7      dim8      dim9      ...       is_cow  is_diningtable  is_dog  \\\n",
       "0  0.001395  0.002232  0.003627      ...            0               0       0   \n",
       "1  0.001953  0.002344  0.001953      ...            0               0       0   \n",
       "2  0.000521  0.002083  0.003646      ...            0               0       1   \n",
       "3  0.000000  0.003720  0.000000      ...            0               0       0   \n",
       "4  0.002378  0.000000  0.003397      ...            0               0       0   \n",
       "5  0.000744  0.008185  0.000372      ...            0               0       0   \n",
       "6  0.001359  0.002717  0.003057      ...            0               0       0   \n",
       "7  0.000279  0.006696  0.000000      ...            0               0       0   \n",
       "8  0.001019  0.004076  0.003397      ...            0               1       0   \n",
       "9  0.000000  0.004076  0.000000      ...            0               0       0   \n",
       "\n",
       "   is_horse  is_motorbike  is_person  is_pottedplant  is_sheep  is_sofa  \\\n",
       "0         1             0          1               0         0        0   \n",
       "1         0             0          0               0         0        0   \n",
       "2         0             0          0               0         0        0   \n",
       "3         0             0          1               0         0        0   \n",
       "4         0             0          0               0         0        0   \n",
       "5         0             0          0               0         0        0   \n",
       "6         0             0          1               0         0        0   \n",
       "7         0             0          0               0         0        0   \n",
       "8         0             0          1               0         0        0   \n",
       "9         0             0          0               0         0        0   \n",
       "\n",
       "   is_tvmonitor  \n",
       "0             0  \n",
       "1             0  \n",
       "2             0  \n",
       "3             1  \n",
       "4             0  \n",
       "5             0  \n",
       "6             0  \n",
       "7             0  \n",
       "8             0  \n",
       "9             0  \n",
       "\n",
       "[10 rows x 520 columns]"
      ]
     },
     "execution_count": 69,
     "metadata": {},
     "output_type": "execute_result"
    }
   ],
   "source": [
    "print(\"First ten instances of train_A\")\n",
    "train_A.head(10)"
   ]
  },
  {
   "cell_type": "markdown",
   "metadata": {},
   "source": [
    "### ========== Question 1.3 --- [1 mark] ==========\n",
    "Select the attributes (i.e. input features) for training our classifiers. These should be the visual word normalised counts `dim1, dim2, ..., dim500`. Create a list of the **names** of the attributes of interest. "
   ]
  },
  {
   "cell_type": "code",
   "execution_count": 70,
   "metadata": {},
   "outputs": [
    {
     "name": "stdout",
     "output_type": "stream",
     "text": [
      "Index([u'dim1', u'dim2', u'dim3', u'dim4', u'dim5', u'dim6', u'dim7', u'dim8',\n",
      "       u'dim9', u'dim10',\n",
      "       ...\n",
      "       u'dim491', u'dim492', u'dim493', u'dim494', u'dim495', u'dim496',\n",
      "       u'dim497', u'dim498', u'dim499', u'dim500'],\n",
      "      dtype='object', length=500)\n"
     ]
    }
   ],
   "source": [
    "names = train_A.columns[1:501]\n",
    "print(names)"
   ]
  },
  {
   "cell_type": "markdown",
   "metadata": {},
   "source": [
    "### ========== Question 1.4 --- [1 mark] ==========\n",
    "By using the list from Question 1.3 now create 4 numpy arrays `X_tr`, `X_val`, `y_tr` and `y_val` in which to store the training features, validation features, training targets, and validation targets, respectively. Your target vectors should correspond to the `is_person` attribute of the training and validation sets. Display the dimensionalities (i.e shapes) of the 4 arrays. \n",
    "\n",
    "Check this carefully - you will be penalised in following questions if the data is not correct!"
   ]
  },
  {
   "cell_type": "code",
   "execution_count": 71,
   "metadata": {},
   "outputs": [
    {
     "name": "stdout",
     "output_type": "stream",
     "text": [
      "Shapes of training and validation sets:\n",
      "Shape of training features : (2093, 500)\n",
      "Shape of training targets  : (2093,)\n",
      "\n",
      "Shape of validation features : (1113, 500)\n",
      "Shape of validation targets  : (1113,)\n"
     ]
    }
   ],
   "source": [
    "X_tr = train_A[names]\n",
    "y_tr = train_A[\"is_person\"]\n",
    "X_val = valid_A[names]\n",
    "y_val = valid_A[\"is_person\"]\n",
    "\n",
    "print(\"Shapes of training and validation sets:\")\n",
    "print(\"Shape of training features : {}\".format(X_tr.shape))\n",
    "print(\"Shape of training targets  : {}\".format(y_tr.shape))\n",
    "print(\"\\nShape of validation features : {}\".format(X_val.shape))\n",
    "print(\"Shape of validation targets  : {}\".format(y_val.shape))"
   ]
  },
  {
   "cell_type": "markdown",
   "metadata": {},
   "source": [
    "### ========== Question 1.5 --- [2 marks] ==========\n",
    "Create a [countplots](https://seaborn.github.io/generated/seaborn.countplot.html?highlight=countplot#seaborn.countplot) for the training and validation targets. Create a single figure, and put the two plots inside the single figure. Label axes appropriately and add a title to your plot. Use descriptive `xticklabels` instead of the default numeric ones."
   ]
  },
  {
   "cell_type": "code",
   "execution_count": 72,
   "metadata": {},
   "outputs": [
    {
     "data": {
      "image/png": "[encoded data removed]",
      "text/plain": [
       "<matplotlib.figure.Figure at 0x7fac36e6fd50>"
      ]
     },
     "metadata": {},
     "output_type": "display_data"
    }
   ],
   "source": [
    "fig, (ax1, ax2) = plt.subplots(1,2)\n",
    "sns.countplot(x=y_tr.values, data=y_tr, ax=ax1)\n",
    "sns.countplot(x=y_val.values, data=y_val, ax=ax2)\n",
    "\n",
    "ax1.set_title(\"Training Targets\")\n",
    "ax2.set_title(\"Validation Targets\")\n",
    "\n",
    "ax1.set_xticklabels([\"False\",\"True\"])\n",
    "ax2.set_xticklabels([\"False\", \"True\"])\n",
    "fig.tight_layout()\n"
   ]
  },
  {
   "cell_type": "markdown",
   "metadata": {},
   "source": [
    "### ========== Question 1.6 --- [1 mark] ==========\n",
    "We want to make a baseline classification accuracy to beat. Pick a baseline \"dummy\" classifier, describe in a sentence why you chose it, and report the accuracy it achieves on the validation set?"
   ]
  },
  {
   "cell_type": "markdown",
   "metadata": {},
   "source": [
    "Want to pick uniformly at random between true and false. Choosing always true would be impossible to underperform, and choosing always false would be impossible to outperform for this problem."
   ]
  },
  {
   "cell_type": "code",
   "execution_count": 73,
   "metadata": {},
   "outputs": [
    {
     "name": "stdout",
     "output_type": "stream",
     "text": [
      "Random dummy classifier accuracy : 0.500449236298\n"
     ]
    }
   ],
   "source": [
    "dummy = DummyClassifier(strategy='uniform')\n",
    "dummy.fit(X_tr, y_tr)\n",
    "dummy_accuracy_score = dummy.score(X_val, y_val)\n",
    "print(\"Random dummy classifier accuracy : {}\".format(dummy_accuracy_score))"
   ]
  },
  {
   "cell_type": "markdown",
   "metadata": {},
   "source": [
    "### ========== Question 1.7 --- [3 marks] ==========\n",
    "Train a [`LogisticRegression`](http://scikit-learn.org/0.17/modules/generated/sklearn.linear_model.LogisticRegression.html) classifier using default settings, except for the `solver` parameter which you should set to `lbfgs`. Report the classification accuracy score on the training and validation sets and compare with the baseline. Comment on the results with 1-2 sentences. You may include any additional plot(s) if you wish to justify your explanation."
   ]
  },
  {
   "cell_type": "code",
   "execution_count": 74,
   "metadata": {},
   "outputs": [
    {
     "name": "stdout",
     "output_type": "stream",
     "text": [
      "Logisitic Regression classifier accuracy : 0.526504941599\n",
      "Logisitic Regression classifier accuracy on training : 0.55088389871\n",
      "[[ 0.5438923   0.4561077 ]\n",
      " [ 0.52910041  0.47089959]\n",
      " [ 0.54798732  0.45201268]\n",
      " ..., \n",
      " [ 0.54235442  0.45764558]\n",
      " [ 0.52715885  0.47284115]\n",
      " [ 0.53324823  0.46675177]]\n"
     ]
    },
    {
     "data": {
      "image/png": "[encoded data removed]",
      "text/plain": [
       "<matplotlib.figure.Figure at 0x7fac34c42610>"
      ]
     },
     "metadata": {},
     "output_type": "display_data"
    },
    {
     "data": {
      "image/png": "[encoded data removed]",
      "text/plain": [
       "<matplotlib.figure.Figure at 0x7fac34f43850>"
      ]
     },
     "metadata": {},
     "output_type": "display_data"
    }
   ],
   "source": [
    "log_regression = LogisticRegression(solver='lbfgs')\n",
    "log_regression.fit(X_tr, y_tr)\n",
    "log_reg_accuracy_score = log_regression.score(X_val, y_val)\n",
    "\n",
    "log_reg_accuracy_train = log_regression.score(X_tr, y_tr)\n",
    "print(\"Logisitic Regression classifier accuracy : {}\".format(log_reg_accuracy_score))\n",
    "print(\"Logisitic Regression classifier accuracy on training : {}\".format(log_reg_accuracy_train))\n",
    "logistic_decision_function = log_regression.decision_function(X_tr)\n",
    "\n",
    "\n",
    "logistic_probs = log_regression.predict_proba(X_tr)\n",
    "#plt.plot(logistic_probs)\n",
    "plt.figure(1)\n",
    "plt.title(\"Per input class probability (blue=False, orange=True)\")\n",
    "plt.plot(logistic_probs)\n",
    "\n",
    "plt.figure(2)\n",
    "plt.title(\"Logistic Decision Function\")\n",
    "plt.plot(logistic_decision_function)\n",
    "print(logistic_probs)\n"
   ]
  },
  {
   "cell_type": "markdown",
   "metadata": {},
   "source": [
    "The logistic regression classifier hardly outperforms the random classifier. This would suggest there is not a strong relationship between the input features and the targets. \n",
    "\n",
    "The plot shows the proability of selecting false (blue), versus the probability of predicting true (orange). The probability of predicting false is always higher, so we have a always pick false based on the training data. This is backed up by the decision function which shows all of our training points, below the decision boundary."
   ]
  },
  {
   "cell_type": "markdown",
   "metadata": {},
   "source": [
    "### ========== Question 1.8 --- [1 mark] ==========\n",
    "Display the means and standard deviations of the first 5 features in the training set. *Hint: you want to compute the means and standard deviations across the columns of your arrays. Make sure you make appropriate use of the `axis` parameter.*"
   ]
  },
  {
   "cell_type": "code",
   "execution_count": 75,
   "metadata": {},
   "outputs": [
    {
     "name": "stdout",
     "output_type": "stream",
     "text": [
      "Mean value of each of the first five features:\n",
      "dim1    0.001751\n",
      "dim2    0.000756\n",
      "dim3    0.004317\n",
      "dim4    0.001853\n",
      "dim5    0.002272\n",
      "dtype: float64\n",
      "\n",
      "Standard deviation of each of the first five features:\n",
      "dim1    0.001193\n",
      "dim2    0.001406\n",
      "dim3    0.003693\n",
      "dim4    0.001340\n",
      "dim5    0.001598\n",
      "dtype: float64\n"
     ]
    }
   ],
   "source": [
    "first_five_cols = X_tr[X_tr.columns[0:5]]\n",
    "means = first_five_cols.mean(axis=0)\n",
    "stds = first_five_cols.std(axis=0)\n",
    "\n",
    "print(\"Mean value of each of the first five features:\")\n",
    "print(means)\n",
    "\n",
    "print(\"\\nStandard deviation of each of the first five features:\")\n",
    "print(stds)"
   ]
  },
  {
   "cell_type": "markdown",
   "metadata": {},
   "source": [
    "### ========== Question 1.9 --- [3 marks] ==========\n",
    "Feature standardisation is a pre-processing technique used to transform data so that they have zero mean and unit standard deviation. For many algorithms, this is a very important step for training models (both regression and classification). Read about [feature standardisation](http://scikit-learn.org/0.17/modules/preprocessing.html) and make sure you understand what kind of transformation this method applies to the data.\n",
    "\n",
    "`Scikit-learn` offers a [class](http://scikit-learn.org/0.17/modules/generated/sklearn.preprocessing.StandardScaler.html) for feature standardisation. Instansiate a StandardScaler object and fit it using the **training features**. Use this fitted object to transform both your training and validation features to have a standard scale. \n",
    "\n",
    "Once your training and validation input data have been transformed, display the means and standard deviations of the first 5 attributes for **both** the training and validation sets. Are the results as you expected? Explain your answer in 2-3 sentences. Why didn't we use the validation set to standardise the data?\n",
    "\n",
    "**IMPORTANT: You should use the transformed data for the rest of this part.**"
   ]
  },
  {
   "cell_type": "code",
   "execution_count": 76,
   "metadata": {},
   "outputs": [
    {
     "name": "stdout",
     "output_type": "stream",
     "text": [
      "Mean and Standard Deviation information for the transformed data:\n",
      "\n",
      "Means for first five attributes of training set:\n",
      "0.0431882724414\n",
      "0.0949037549854\n",
      "0.0442566240803\n",
      "0.0428837919861\n",
      "-0.0144939954148\n",
      "\n",
      "Standard Deviations for first five attributes in training set:\n",
      "0.781257157085\n",
      "0.908992733019\n",
      "1.03506488434\n",
      "0.900654188423\n",
      "0.858093350887\n",
      "\n",
      "Means for first five attributes of the validation set:\n",
      "0.102045586402\n",
      "-0.00526985164692\n",
      "0.00159383429288\n",
      "-0.0220171821422\n",
      "0.094334855043\n",
      "\n",
      "Standard Deviations for first five attributes of the validation set:\n",
      "0.835422359221\n",
      "0.809538722402\n",
      "0.853661344419\n",
      "0.990606205087\n",
      "0.988285720784\n"
     ]
    }
   ],
   "source": [
    "standard_scaler = StandardScaler() # Init\n",
    "standard_scaler.fit(X_tr) # fit to training features\n",
    "X_tr_standard = standard_scaler.transform(X_tr)\n",
    "X_val_standard = standard_scaler.transform(X_val)\n",
    "\n",
    "print(\"Mean and Standard Deviation information for the transformed data:\")\n",
    "\n",
    "print(\"\\nMeans for first five attributes of training set:\")\n",
    "for idx in range(5):\n",
    "    print(np.mean(X_tr_standard[idx]))\n",
    "    \n",
    "print(\"\\nStandard Deviations for first five attributes in training set:\")\n",
    "for idx in range(5):\n",
    "    print(np.std(X_tr_standard[idx]))\n",
    "    \n",
    "print(\"\\nMeans for first five attributes of the validation set:\")\n",
    "for idx in range(5):\n",
    "    print(np.mean(X_val_standard[idx]))\n",
    "    \n",
    "print(\"\\nStandard Deviations for first five attributes of the validation set:\")\n",
    "for idx in range(5):\n",
    "    print(np.std(X_val_standard[idx]))"
   ]
  },
  {
   "cell_type": "markdown",
   "metadata": {},
   "source": [
    "I was expecting the means and stds of the training features to be 0 and 1 respectively, and the means and stds of the validation set to be close to 0 and 1. This is shown not to be the case. \n",
    "\n",
    "We don't use the validation set to standardise the data as we use the training set to train the classifier. It wouldn't make sense to standardise based on one set of data, then train based on another. "
   ]
  },
  {
   "cell_type": "markdown",
   "metadata": {},
   "source": [
    "### ========== Question 1.10 --- [3 marks] ==========\n",
    "By using the transformed input data, train a new `LogisticRegression` classifier. Again, set the `solver` parameter to `lbfgs` and use default settings for the other parameters. Report the classification accuracy on both the training and validation sets.\n",
    "\n",
    "Comment on how your model compares to the baseline classifier from Question 1.6? You may use additional plot(s) to support your explanation."
   ]
  },
  {
   "cell_type": "code",
   "execution_count": 77,
   "metadata": {},
   "outputs": [
    {
     "name": "stdout",
     "output_type": "stream",
     "text": [
      "Logistic regression score on standardised data:\n",
      "Score : 0.643306379155\n"
     ]
    },
    {
     "data": {
      "text/plain": [
       "[<matplotlib.lines.Line2D at 0x7fac39b43d50>]"
      ]
     },
     "execution_count": 77,
     "metadata": {},
     "output_type": "execute_result"
    },
    {
     "data": {
      "image/png": "[encoded data removed]",
      "text/plain": [
       "<matplotlib.figure.Figure at 0x7fac34f14cd0>"
      ]
     },
     "metadata": {},
     "output_type": "display_data"
    },
    {
     "data": {
      "image/png": "[encoded data removed]",
      "text/plain": [
       "<matplotlib.figure.Figure at 0x7fac39c30cd0>"
      ]
     },
     "metadata": {},
     "output_type": "display_data"
    }
   ],
   "source": [
    "log_regression_two = LogisticRegression(solver='lbfgs')\n",
    "log_regression_two.fit(X_tr_standard, y_tr)\n",
    "lr_two_score = log_regression_two.score(X_val_standard, y_val)\n",
    "\n",
    "print(\"Logistic regression score on standardised data:\")\n",
    "print(\"Score : {}\".format(lr_two_score))\n",
    "\n",
    "plt.figure(1)\n",
    "plt.title(\"Standardised regression decision function\")\n",
    "plt.plot(log_regression_two.decision_function(X_tr_standard))\n",
    "plt.figure(2)\n",
    "plt.title(\"Non-standardised regression decision function (from 1.6)\")\n",
    "plt.plot(log_regression.decision_function(X_tr))"
   ]
  },
  {
   "cell_type": "markdown",
   "metadata": {},
   "source": [
    "This classifier performs better than in Q1.6, giving a higher classification accuracy. If we look at the plot of the decision function (top), we can see that we actually have points on both sides of the decision boundary hyperplane, as compared to the old decision function (bottom), where all points are on the one side. We can therefore try to make predictions."
   ]
  },
  {
   "cell_type": "markdown",
   "metadata": {},
   "source": [
    "### ========== Question 1.11 --- [1 mark] ==========\n",
    "So far we have used default settings for training the logistic regression classifier. Now, we want to use [K-fold cross-validation](http://scikit-learn.org/0.17/modules/generated/sklearn.cross_validation.KFold.html) to optimise the regularisation parameter `C`. The regularisation parameter controls the degree to which we wish to penalise large magnitudes in the weight vector. This can help us prevent overfitting but, if set too high, could lead us to underfit too.\n",
    "\n",
    "Create a 3-fold cross-validation object. Set the `shuffle` parameter to `True` and the `random_state` to `0`. By using the cross-validation iterator, display the number of test samples for each fold."
   ]
  },
  {
   "cell_type": "code",
   "execution_count": 78,
   "metadata": {},
   "outputs": [
    {
     "name": "stdout",
     "output_type": "stream",
     "text": [
      "No. test samples for fold 1 : 698\n",
      "No. test samples for fold 2 : 698\n",
      "No. test samples for fold 3 : 697\n"
     ]
    }
   ],
   "source": [
    "k_fold = KFold(shuffle=True, random_state=0) #Default k is 3\n",
    "fold = 1\n",
    "for train, test in k_fold.split(X_tr_standard):\n",
    "    print(\"No. test samples for fold {} : {}\".format(fold, len(test)))\n",
    "    fold+=1"
   ]
  },
  {
   "cell_type": "markdown",
   "metadata": {},
   "source": [
    "### ========== Question 1.12 --- [2 marks] ========== \n",
    "Using the cross-validation iterator from the previous question, perform a search for the best value for `C`. \n",
    "\n",
    "We are going to loop over each CV fold, and each value of `C`. The values of `C` to search should be 20 equally-spaced values **in log space** ranging from `1e-5` to `1e5` *(hint: look at the `logspace()` function in numpy)*. \n",
    "\n",
    "Create a 2-dimensional array and, for each cross-validation fold and parameter setting pair, compute and store the classification accuracy score e.g. store the score of fold 0 with parameter setting 1 at score_array[0,1]. As previously, set the `solver` parameter to `lbfgs` and use default settings for the other parameters (except for `C` obviously!).\n",
    "\n",
    "*(hint: you could use two loops in your code; one iterating over CV folds and another one iterating over the values for `C`)*. "
   ]
  },
  {
   "cell_type": "code",
   "execution_count": 79,
   "metadata": {},
   "outputs": [
    {
     "name": "stdout",
     "output_type": "stream",
     "text": [
      "[  1.00000000e-05   3.35981829e-05   1.12883789e-04   3.79269019e-04\n",
      "   1.27427499e-03   4.28133240e-03   1.43844989e-02   4.83293024e-02\n",
      "   1.62377674e-01   5.45559478e-01   1.83298071e+00   6.15848211e+00\n",
      "   2.06913808e+01   6.95192796e+01   2.33572147e+02   7.84759970e+02\n",
      "   2.63665090e+03   8.85866790e+03   2.97635144e+04   1.00000000e+05]\n",
      "[[ 0.5730659   0.62893983  0.66762178  0.67191977  0.68767908  0.69627507\n",
      "   0.6747851   0.67048711  0.65329513  0.65902579  0.65902579  0.65329513\n",
      "   0.64899713  0.64613181  0.64613181  0.64899713  0.64613181  0.64613181\n",
      "   0.64899713  0.64899713]\n",
      " [ 0.54584527  0.63180516  0.69484241  0.71919771  0.72922636  0.73495702\n",
      "   0.70200573  0.6747851   0.65472779  0.63610315  0.63180516  0.63323782\n",
      "   0.6260745   0.62750716  0.62750716  0.6260745   0.6260745   0.6260745\n",
      "   0.62750716  0.6260745 ]\n",
      " [ 0.54806313  0.63558106  0.64275466  0.65566714  0.68005739  0.70014347\n",
      "   0.68149211  0.67001435  0.66284075  0.64418938  0.63271162  0.62553802\n",
      "   0.6241033   0.6241033   0.6241033   0.6241033   0.6241033   0.6241033\n",
      "   0.6241033   0.6241033 ]]\n"
     ]
    }
   ],
   "source": [
    "logs = np.logspace(-5, 5, 20) # Generate the values for C\n",
    "print(logs)\n",
    "# Array access indices\n",
    "i = 0 \n",
    "j = 0\n",
    "score_array = np.zeros((3, len(logs)))\n",
    "for train, test in k_fold.split(X_tr_standard): # For each train, test pair in the iterator\n",
    "    for c in logs: # For each value of C\n",
    "        lr = LogisticRegression(solver='lbfgs', C=c) # Make a new LR model\n",
    "        lr.fit(X_tr_standard[train], y_tr[train]) # Fit to the training samples\n",
    "        score_array[i][j] = lr.score(X_tr_standard[test], y_tr[test]) # Get prediction score\n",
    "        j+=1\n",
    "        \n",
    "    i += 1\n",
    "    j = 0\n",
    "    \n",
    "print(score_array)"
   ]
  },
  {
   "cell_type": "markdown",
   "metadata": {},
   "source": [
    "### ========== Question 1.13 --- [1 mark] ========== \n",
    "Plot the mean classification performance (across CV folds) of the logistic regression classifier against the regularisation parameter `C` by using the range from Question 1.12. Use a logarithmic scale for the x-axis and label both axes appropriately. "
   ]
  },
  {
   "cell_type": "code",
   "execution_count": 80,
   "metadata": {},
   "outputs": [
    {
     "data": {
      "text/plain": [
       "<matplotlib.text.Text at 0x7fac39d29910>"
      ]
     },
     "execution_count": 80,
     "metadata": {},
     "output_type": "execute_result"
    },
    {
     "data": {
      "text/plain": [
       "<matplotlib.figure.Figure at 0x7fac34c542d0>"
      ]
     },
     "metadata": {},
     "output_type": "display_data"
    },
    {
     "data": {
      "image/png": "[encoded data removed]",
      "text/plain": [
       "<matplotlib.figure.Figure at 0x7fac34c54950>"
      ]
     },
     "metadata": {},
     "output_type": "display_data"
    }
   ],
   "source": [
    "mean_score = np.zeros((len(logs),1))\n",
    "\n",
    "for idx in range(len(logs)):\n",
    "    mean_score[idx] = np.mean([score_array[0][idx], score_array[1][idx], score_array[2][idx]])\n",
    "    \n",
    "    \n",
    "#print(mean_score)\n",
    "\n",
    "logs = np.reshape(logs, (20,))\n",
    "mean_score = np.reshape(mean_score, (20,))\n",
    "\n",
    "plt.figure(4)\n",
    "f, ax4 = plt.subplots()\n",
    "sns.regplot(np.log(logs), mean_score, fit_reg=False, ax=ax4)\n",
    "ax4.set_title(\"Classification accuracy against potential values for C\")\n",
    "ax4.set_xlabel(\"Log of C values\")\n",
    "ax4.set_ylabel(\"Classification accuracy score\")"
   ]
  },
  {
   "cell_type": "markdown",
   "metadata": {},
   "source": [
    "### ========== Question 1.14 --- [2 marks] ==========\n",
    "Display the optimal value for the regularisation parameter `C` determined by the search results from Question 1.12. Similarly to Question 1.13, consider the mean classifiation accuracy across CV folds. By using the optimal value (i.e. the one that yields the highest average classification accuracy) train a new `LogisticRegression` classifier and report the classification accuracy on the validation set. *(Hint: Do not pick the optimal value \"by hand\", instead use an appropriate numpy function).*"
   ]
  },
  {
   "cell_type": "code",
   "execution_count": 81,
   "metadata": {},
   "outputs": [
    {
     "name": "stdout",
     "output_type": "stream",
     "text": [
      "Optimal accuracy for LR classifier : 0.710458521238\n",
      "Optimal value for C : 0.00428133239872\n"
     ]
    }
   ],
   "source": [
    "argmax = np.argmax(mean_score)\n",
    "opt_acc = mean_score[argmax]\n",
    "opt_C = logs[argmax]\n",
    "\n",
    "print(\"Optimal accuracy for LR classifier : {}\".format(opt_acc))\n",
    "print(\"Optimal value for C : {}\".format(opt_C))"
   ]
  },
  {
   "cell_type": "markdown",
   "metadata": {},
   "source": [
    "### ========== Question 1.15 --- [1 mark] ========== \n",
    "Scikit-learn offers a [`LogisticRegressionCV`](http://scikit-learn.org/0.17/modules/generated/sklearn.linear_model.LogisticRegressionCV.html) module which implements Logistic Regression with builtin cross-validation to find out the optimal `C` parameter. You can specify the range for the `C` parameter, as well as the cross-validation method you want to use with the `Cs` and `cv` parameters, respectively. Use the `C` range you set up in Question 1.12 and the 3-fold cross-validation iterator from Question 1.11. Once again, train the models by using the `lbfgs` optimisation method and display the optimal value for the parameter `C`. Finally, display the classification accuracy on the validation set. Check your results are consistent with those from Question 1.14!"
   ]
  },
  {
   "cell_type": "code",
   "execution_count": 82,
   "metadata": {},
   "outputs": [
    {
     "name": "stdout",
     "output_type": "stream",
     "text": [
      "Classification accuracy of LRCV model : 0.696316262354\n"
     ]
    }
   ],
   "source": [
    "lrcv = LogisticRegressionCV(Cs=logs, cv=k_fold.split(X_tr_standard), solver='lbfgs')\n",
    "lrcv.fit(X_tr_standard, y_tr)\n",
    "lrcv_accuracy = lrcv.score(X_val_standard, y_val)\n",
    "\n",
    "print(\"Classification accuracy of LRCV model : {}\".format(lrcv_accuracy))"
   ]
  },
  {
   "cell_type": "markdown",
   "metadata": {},
   "source": [
    "### ========== Question 1.16 --- [1 mark] ==========\n",
    "Now, we want to validate the importance of various features for classification. For this purpose, we will use a [`RandomForestClassifier`](http://scikit-learn.org/0.17/modules/generated/sklearn.ensemble.RandomForestClassifier.html) (you might want to refer to Lab_3 if you are unsure how we can estimate feature importances with decision tree and random forest models).\n",
    "\n",
    "Initialise a random forest classifier and fit the model by using training data only and 500 trees (i.e. `n_estimators`). Set the `RandomState` equal to 42 to ensure reproducible results. Report the accuracy score on both the training and validation sets."
   ]
  },
  {
   "cell_type": "code",
   "execution_count": 83,
   "metadata": {},
   "outputs": [
    {
     "name": "stdout",
     "output_type": "stream",
     "text": [
      "Random Forest accuracy on training set : 1.0\n",
      "Random Forest accuracy on validation set : 0.692722371968\n"
     ]
    }
   ],
   "source": [
    "rfc = RandomForestClassifier(n_estimators=500, random_state=42)\n",
    "rfc.fit(X_tr_standard, y_tr)\n",
    "\n",
    "rfc_train_score = rfc.score(X_tr_standard, y_tr)\n",
    "rfc_valid_score = rfc.score(X_val_standard, y_val)\n",
    "\n",
    "print(\"Random Forest accuracy on training set : {}\".format(rfc_train_score))\n",
    "print(\"Random Forest accuracy on validation set : {}\".format(rfc_valid_score))"
   ]
  },
  {
   "cell_type": "markdown",
   "metadata": {},
   "source": [
    "### ========== Question 1.17 --- [2 marks] ==========\n",
    "Comment on the results above. Do you find the discrepancy between training and validation accuracies surprising?"
   ]
  },
  {
   "cell_type": "markdown",
   "metadata": {},
   "source": [
    "No, random forests have a tendency to overfit to training data so the accuracy on training and the drop on validation is not surprising. "
   ]
  },
  {
   "cell_type": "markdown",
   "metadata": {},
   "source": [
    "### ========== Question 1.18 --- [2 marks] ==========\n",
    "By using the random forest model from the previous question order the features by descending importance and display the names of the 50 most important features."
   ]
  },
  {
   "cell_type": "code",
   "execution_count": 84,
   "metadata": {},
   "outputs": [
    {
     "name": "stdout",
     "output_type": "stream",
     "text": [
      "Fifty most important features in the training set:\n",
      "Index([u'dim21', u'dim51', u'dim360', u'dim4', u'dim479', u'dim76', u'dim283',\n",
      "       u'dim461', u'dim343', u'dim398', u'dim348', u'dim74', u'dim485',\n",
      "       u'dim356', u'dim330', u'dim217', u'dim263', u'dim222', u'dim134',\n",
      "       u'dim500', u'dim274', u'dim254', u'dim206', u'dim423', u'dim347',\n",
      "       u'dim17', u'dim326', u'dim90', u'dim92', u'dim329', u'dim214',\n",
      "       u'dim322', u'dim289', u'dim54', u'dim440', u'dim427', u'dim73',\n",
      "       u'dim35', u'dim77', u'dim312', u'dim315', u'dim96', u'dim288',\n",
      "       u'dim483', u'dim299', u'dim48', u'dim442', u'dim201', u'dim344',\n",
      "       u'dim294'],\n",
      "      dtype='object')\n"
     ]
    }
   ],
   "source": [
    "importances = rfc.feature_importances_\n",
    "importance_map = zip(importances, range(len(importances)))\n",
    "importance_map = list(reversed(sorted(importance_map, key=lambda x: x[0])))\n",
    "index_list = [ y for (x,y) in importance_map ][:50]\n",
    "\n",
    "# NOTE: Used the original X_tr to get the columns as it was conveniently still in DataFrame \n",
    "# format. The column headers will be correct even though the data is the non-standardised.\n",
    "# version.\n",
    "\n",
    "fifty_most_important = X_tr.columns[index_list]\n",
    "\n",
    "print(\"Fifty most important features in the training set:\")\n",
    "print(fifty_most_important)"
   ]
  },
  {
   "cell_type": "markdown",
   "metadata": {},
   "source": [
    "### ========== Question 1.19 --- [3 marks] ==========\n",
    "Next, we would like to test the performance of support vector machines. Train three support vector classifiers with the following kernels: linear, radial basis function, and polynomial. Report the classification accuracy of each of the three classifiers on both the training and validation sets."
   ]
  },
  {
   "cell_type": "code",
   "execution_count": 85,
   "metadata": {},
   "outputs": [
    {
     "name": "stdout",
     "output_type": "stream",
     "text": [
      "Classification accuracies for three SV classifiers (training):\n",
      "Linear : 0.842331581462\n",
      "RBF : 0.910654562828\n",
      "Polynomial : 0.990922121357\n",
      "\n",
      "Classification accuracies for three SV classifiers (validation):\n",
      "Linear : 0.638814016173\n",
      "RBF : 0.729559748428\n",
      "Polynomial : 0.701707097934\n"
     ]
    }
   ],
   "source": [
    "linear_svc = SVC(kernel='linear')\n",
    "rbf_svc = SVC(kernel='rbf')\n",
    "poly_svc = SVC(kernel='poly')\n",
    "\n",
    "linear_svc.fit(X_tr_standard, y_tr)\n",
    "rbf_svc.fit(X_tr_standard, y_tr)\n",
    "poly_svc.fit(X_tr_standard, y_tr)\n",
    "\n",
    "print(\"Classification accuracies for three SV classifiers (training):\")\n",
    "print(\"Linear : {}\".format(linear_svc.score(X_tr_standard, y_tr)))\n",
    "print(\"RBF : {}\".format(rbf_svc.score(X_tr_standard,y_tr)))\n",
    "print(\"Polynomial : {}\".format(poly_svc.score(X_tr_standard, y_tr)))\n",
    "\n",
    "print(\"\\nClassification accuracies for three SV classifiers (validation):\")\n",
    "print(\"Linear : {}\".format(linear_svc.score(X_val_standard, y_val)))\n",
    "print(\"RBF : {}\".format(rbf_svc.score(X_val_standard,y_val)))\n",
    "print(\"Polynomial : {}\".format(poly_svc.score(X_val_standard, y_val)))"
   ]
  },
  {
   "cell_type": "markdown",
   "metadata": {},
   "source": [
    "### ========== Question 1.20 --- [3 marks] ==========\n",
    "At this point, we would like to get an idea of what kind of decision boundaries we can get with the three types of SVM kernels we introduced in the previous question. For visualisation, however, we can only make use of 2D input data. For this purpose, we select to use the 21st and 76th columns of our training features (*hint: remember that Python uses 0-based indexing*). \n",
    "\n",
    "Execute the cell below to define a useful function which we will be using to plot the decision boundaries *(it is also not a bad idea to try to understand what this functions does)*. \n",
    "\n",
    "Then train three distinct SVM classifiers by using the 2D input data mentioned above and default parameters:\n",
    "* a linear SVC\n",
    "* an RBF SVC \n",
    "* a polynomial SVC\n",
    "\n",
    "Finally, create a list containing the three classifiers you have just trained. Use this list as an input to the provided function along with the used training features and observe the outcome. You can use the additional `title` parameter to set the titles in the subplots. Comment on the shape of the boundaries and what this means for classification accuracy in 1-2 sentences.\n",
    "\n",
    "*(Acknowledgement: this Question has been heavily based on [this example](http://scikit-learn.org/0.17/auto_examples/svm/plot_iris.html) from scikit-learn's documentation.)*"
   ]
  },
  {
   "cell_type": "code",
   "execution_count": 86,
   "metadata": {
    "collapsed": true
   },
   "outputs": [],
   "source": [
    "def show_svc_decision_boundaries(clfs, X, title=None):\n",
    "    \"\"\"Plots decision boundaries for classifiers with 2D inputs.\n",
    "    \n",
    "    Parameters\n",
    "    ----------\n",
    "    clf : list\n",
    "        Classifiers for which decision boundaries will be displayed.\n",
    "    X : array\n",
    "        Input features used to train the classifiers.\n",
    "    title : list, optional\n",
    "        Titles for classifiers.\n",
    "    \n",
    "    \"\"\"\n",
    "    \n",
    "    assert X.shape[1] == 2 # Input should be 2D\n",
    "    if title is not None:\n",
    "        assert len(clfs) == len(title)\n",
    "    \n",
    "    h = .04 # step size in the mesh\n",
    "    x_min, x_max = X[:, 0].min() - 1, X[:, 0].max() + 1\n",
    "    y_min, y_max = X[:, 1].min() - 1, X[:, 1].max() + 1\n",
    "    xx, yy = np.meshgrid(np.arange(x_min, x_max, h),\n",
    "                         np.arange(y_min, y_max, h))\n",
    "    plt.figure(figsize=(15,5))\n",
    "    for i, clf in enumerate(clfs):\n",
    "        plt.subplot(1, len(clfs), i + 1)\n",
    "        plt.subplots_adjust(wspace=0.4, hspace=0.4)\n",
    "        Z = clf.predict(np.c_[xx.ravel(), yy.ravel()])\n",
    "        Z = Z.reshape(xx.shape)\n",
    "        plt.contourf(xx, yy, Z, cmap=plt.cm.Paired, alpha=0.8)\n",
    "        # Training points\n",
    "        plt.scatter(X[:, 0], X[:, 1], c=y_tr, cmap=plt.cm.Paired)\n",
    "        plt.xlabel('Feature 1')\n",
    "        plt.ylabel('Feature 2')\n",
    "        plt.xlim(xx.min(), xx.max())\n",
    "        plt.ylim(yy.min(), yy.max())\n",
    "        plt.xticks(())\n",
    "        plt.yticks(())\n",
    "        if title is not None:\n",
    "            plt.title(title[i])"
   ]
  },
  {
   "cell_type": "code",
   "execution_count": 87,
   "metadata": {},
   "outputs": [
    {
     "name": "stdout",
     "output_type": "stream",
     "text": [
      "(2093, 2)\n",
      "(2093,)\n"
     ]
    },
    {
     "data": {
      "image/png": "[encoded data removed]",
      "text/plain": [
       "<matplotlib.figure.Figure at 0x7fac37171d90>"
      ]
     },
     "metadata": {},
     "output_type": "display_data"
    }
   ],
   "source": [
    "X_tr_standard_2D = np.zeros((y_tr.shape[0],2)) # Init 2D feature set\n",
    "\n",
    "for idx in range(y_tr.shape[0]):\n",
    "    X_tr_standard_2D[idx][0] = X_tr_standard[idx][20]\n",
    "    X_tr_standard_2D[idx][1] = X_tr_standard[idx][75]\n",
    "    \n",
    "print(X_tr_standard_2D.shape)\n",
    "print(y_tr.shape)\n",
    "\n",
    "linear_svc_2D = SVC(kernel='linear')\n",
    "rbf_svc_2D = SVC(kernel='rbf')\n",
    "poly_svc_2D = SVC(kernel='poly')\n",
    "\n",
    "linear_svc_2D.fit(X_tr_standard_2D, y_tr)\n",
    "\n",
    "rbf_svc_2D.fit(X_tr_standard_2D, y_tr)\n",
    "poly_svc_2D.fit(X_tr_standard_2D, y_tr)\n",
    "\n",
    "svc_list = [linear_svc_2D, rbf_svc_2D, poly_svc_2D]\n",
    "titles = [\"Linear\", \"Radial Basis Function\", \"Polynomial\"]\n",
    "\n",
    "show_svc_decision_boundaries(svc_list, X_tr_standard_2D, title=titles)\n"
   ]
  },
  {
   "cell_type": "markdown",
   "metadata": {},
   "source": [
    "As the classifications are clustered closely in the same area, a linear function would misclassify a lot of points from both classes. RBF looks like it would give a slightly better classification, but would still misclassify a lot, and polynomial has a similar issue with a classification bias going in the other direction."
   ]
  },
  {
   "cell_type": "markdown",
   "metadata": {},
   "source": [
    "### ========== Question 1.21 --- [5 marks] ==========\n",
    "So far we have used default parameters for training the SVM classifiers. Now we want to tune the parameters by using cross-validation. \n",
    "\n",
    "By using the `K-fold` iterator from Question 1.11 and training data only, estimate the classification accuracy of an SVM classifier with RBF kernel, while you vary the penalty parameter `C` in a logarithmic range `np.logspace(-2, 3, 10)`. Set the kernel coefficient parameter `gamma` to `auto` for this question. \n",
    "\n",
    "Plot the mean cross-validated classification accuracy against the regularisation parameter `C` by using a log-scale for the x-axis. Display the highest obtained mean accuracy score and the value of `C` which yielded it. Label axes appropriately. \n",
    "\n",
    "Finally, train a classifier by using the optimal value for this parameter (without using cross-validation at this stage) and report the classification accuracy on the training and validation sets. "
   ]
  },
  {
   "cell_type": "code",
   "execution_count": 88,
   "metadata": {},
   "outputs": [
    {
     "name": "stdout",
     "output_type": "stream",
     "text": [
      "Optimal accuracy for SVM classifier : 0.715230644637\n",
      "Optimal value for C : 1.6681005372\n",
      "Optimal SVM classifier accuracies:\n",
      "On training data : 0.974677496417\n",
      "On validation data : 0.727762803235\n"
     ]
    },
    {
     "data": {
      "text/plain": [
       "<matplotlib.figure.Figure at 0x7fac3adb5a90>"
      ]
     },
     "metadata": {},
     "output_type": "display_data"
    },
    {
     "data": {
      "image/png": "[encoded data removed]",
      "text/plain": [
       "<matplotlib.figure.Figure at 0x7fac3adb5950>"
      ]
     },
     "metadata": {},
     "output_type": "display_data"
    }
   ],
   "source": [
    "svm_logs = np.logspace(-2,3,10)\n",
    "# Try values of C\n",
    "# Array access indices\n",
    "i = 0 \n",
    "j = 0\n",
    "svc_score_array = np.zeros((3, len(svm_logs)))\n",
    "for train, test in k_fold.split(X_tr_standard): # For each train, test pair in the iterator\n",
    "    for c in svm_logs: # For each value of C\n",
    "        svc_varied = SVC(kernel='rbf', gamma='auto', C=c) # Make a new SVC model\n",
    "        svc_varied.fit(X_tr_standard[train], y_tr[train]) # Fit to the training samples\n",
    "        svc_score_array[i][j] = svc_varied.score(X_tr_standard[test], y_tr[test]) # Get prediction score\n",
    "        j+=1\n",
    "        \n",
    "    i += 1\n",
    "    j = 0\n",
    "    \n",
    "mean_score = np.zeros((len(svm_logs),1))\n",
    "\n",
    "#Plot values of C\n",
    "for idx in range(len(svm_logs)):\n",
    "    mean_score[idx] = np.mean([svc_score_array[0][idx], svc_score_array[1][idx], svc_score_array[2][idx]])\n",
    "    \n",
    "    \n",
    "#print(mean_score)\n",
    "\n",
    "svm_logs = np.reshape(svm_logs, (10,))\n",
    "mean_score = np.reshape(mean_score, (10,))\n",
    "\n",
    "plt.figure(5)\n",
    "f, ax5 = plt.subplots()\n",
    "sns.regplot(np.log(svm_logs), mean_score, fit_reg=False, ax=ax5)\n",
    "ax5.set_title(\"Classification accuracy against potential values for C : SVM\")\n",
    "ax5.set_xlabel(\"Log of C values\")\n",
    "ax5.set_ylabel(\"Classification accuracy score\")\n",
    "\n",
    "# Get optimal value and index\n",
    "argmax = np.argmax(mean_score)\n",
    "opt_acc = mean_score[argmax]\n",
    "opt_C = svm_logs[argmax]\n",
    "\n",
    "print(\"Optimal accuracy for SVM classifier : {}\".format(opt_acc))\n",
    "print(\"Optimal value for C : {}\".format(opt_C))\n",
    "\n",
    "# Train 'optimal' svc\n",
    "svc_opt = SVC(kernel='rbf', gamma='auto', C=opt_C) # Make a new SVC model\n",
    "svc_opt.fit(X_tr_standard, y_tr)\n",
    "svc_opt_trn_score = svc_opt.score(X_tr_standard, y_tr)\n",
    "svc_opt_val_score = svc_opt.score(X_val_standard, y_val)\n",
    "\n",
    "print(\"Optimal SVM classifier accuracies:\")\n",
    "print(\"On training data : {}\".format(svc_opt_trn_score))\n",
    "print (\"On validation data : {}\".format(svc_opt_val_score))"
   ]
  },
  {
   "cell_type": "markdown",
   "metadata": {},
   "source": [
    "### ========== Question 1.22 --- [5 marks] ==========\n",
    "Now we turn to the kernel coefficient `gamma` parameter. By using the same procedure as in the previous question, estimate the classification accuracy of an SVM classifier with RBF kernel while you vary the `gamma` parameter in a logarithmic range `logspace(-5, 0, 10)`. Fix the penalty parameter `C=1.0`.\n",
    "\n",
    "Plot the mean cross-validated classification accuracy against the parameter `gamma` by using a log-scale for the x-axis. Display the highest obtained mean accuracy score and the value of `gamma` which yielded it.  Label axes appropriately.\n",
    "\n",
    "Finally, train a classifier by using the optimal value for this parameter (without using cross-validation at this stage) and report the classification accuracy on the training and validation sets. "
   ]
  },
  {
   "cell_type": "code",
   "execution_count": 89,
   "metadata": {},
   "outputs": [
    {
     "name": "stdout",
     "output_type": "stream",
     "text": [
      "Optimal accuracy for SVM classifier : 0.716185754475\n",
      "Optimal value for C : 1.6681005372\n",
      "Optimal SVM classifier accuracies:\n",
      "On training data : 0.891065456283\n",
      "On validation data : 0.726864330638\n"
     ]
    },
    {
     "data": {
      "text/plain": [
       "<matplotlib.figure.Figure at 0x7fac3adb5990>"
      ]
     },
     "metadata": {},
     "output_type": "display_data"
    },
    {
     "data": {
      "image/png": "[encoded data removed]",
      "text/plain": [
       "<matplotlib.figure.Figure at 0x7fac34d5d1d0>"
      ]
     },
     "metadata": {},
     "output_type": "display_data"
    }
   ],
   "source": [
    "svm_gammas = np.logspace(-5, 0, 10)\n",
    "\n",
    "# Try values of gamma\n",
    "# Array access indices\n",
    "i = 0 \n",
    "j = 0\n",
    "svc_score_array = np.zeros((3, len(svm_gammas)))\n",
    "for train, test in k_fold.split(X_tr_standard): # For each train, test pair in the iterator\n",
    "    for gma in svm_gammas: # For each value of C\n",
    "        svc_varied = SVC(kernel='rbf', gamma=gma, C=1.0) # Make a new SVC model\n",
    "        svc_varied.fit(X_tr_standard[train], y_tr[train]) # Fit to the training samples\n",
    "        svc_score_array[i][j] = svc_varied.score(X_tr_standard[test], y_tr[test]) # Get prediction score\n",
    "        j+=1\n",
    "        \n",
    "    i += 1\n",
    "    j = 0\n",
    "    \n",
    "    \n",
    "mean_score = np.zeros((len(svm_gammas),1))\n",
    "\n",
    "# Plot values of gamma\n",
    "for idx in range(len(svm_gammas)):\n",
    "    mean_score[idx] = np.mean([svc_score_array[0][idx], svc_score_array[1][idx], svc_score_array[2][idx]])\n",
    "\n",
    "svm_gammas = np.reshape(svm_gammas, (10,))\n",
    "mean_score = np.reshape(mean_score, (10,))\n",
    "\n",
    "plt.figure(6)\n",
    "f, ax6 = plt.subplots()\n",
    "sns.regplot(np.log(svm_gammas), mean_score, fit_reg=False, ax=ax6)\n",
    "ax6.set_title(\"Classification accuracy against potential values for Gamma : SVM\")\n",
    "ax6.set_xlabel(\"Log of C values\")\n",
    "ax6.set_ylabel(\"Classification accuracy score\")\n",
    "\n",
    "# Get optimal value and index\n",
    "argmax = np.argmax(mean_score)\n",
    "opt_acc = mean_score[argmax]\n",
    "opt_gamma = svm_gammas[argmax]\n",
    "\n",
    "print(\"Optimal accuracy for SVM classifier : {}\".format(opt_acc))\n",
    "print(\"Optimal value for C : {}\".format(opt_C))\n",
    "\n",
    "# Train 'optimal' svc\n",
    "svc_opt = SVC(kernel='rbf', gamma=opt_gamma, C=1.0) # Make a new SVC model\n",
    "svc_opt.fit(X_tr_standard, y_tr)\n",
    "svc_optg_trn_score = svc_opt.score(X_tr_standard, y_tr)\n",
    "svc_optg_val_score = svc_opt.score(X_val_standard, y_val)\n",
    "\n",
    "print(\"Optimal SVM classifier accuracies:\")\n",
    "print(\"On training data : {}\".format(svc_optg_trn_score))\n",
    "print (\"On validation data : {}\".format(svc_optg_val_score))\n",
    "    "
   ]
  },
  {
   "cell_type": "markdown",
   "metadata": {},
   "source": [
    "### ========== Question 1.23 --- [7 marks] ==========\n",
    "Now we wish to tune both the `C` and `gamma` parameters simultaneously. To save computational time, we will now constrain the parameter search space. Define a `4 X 4` grid for the two parameters, as follows:\n",
    "* `C`: `np.logspace(-2, 1, 4)`\n",
    "* `gamma`: `np.logspace(-4, -1, 4)`\n",
    "\n",
    "Estimate the mean cross-validated classification accuracy by using training data only and all possible configurations for the two parameters. \n",
    "\n",
    "Use a [heatmap](https://seaborn.github.io/generated/seaborn.heatmap.html?highlight=heatmap#seaborn.heatmap) to visualise the mean cross-validated classification accuracy for all `C`-`gamma` pairs. Label axes appropriately and display the values for `C` and `gamma` for the best performing configuration. \n",
    "\n",
    "Finally, by using the optimal configuration, train a classifier (without using cross-validation) and report the classification accuracy on the training and validation sets."
   ]
  },
  {
   "cell_type": "code",
   "execution_count": 90,
   "metadata": {},
   "outputs": [
    {
     "name": "stdout",
     "output_type": "stream",
     "text": [
      "(4, 4)\n"
     ]
    }
   ],
   "source": [
    "cs = np.logspace(-2, 1, 4)\n",
    "gammas = np.logspace(-4, -1, 4)\n",
    "\n",
    "# Try values of gamma and c\n",
    "# Array access indices\n",
    "i = 0 \n",
    "j = 0\n",
    "k = 0\n",
    "svc_score_array = np.zeros((3, len(gammas), len(cs)))\n",
    "for train, test in k_fold.split(X_tr_standard): # For each train, test pair in the iterator\n",
    "    for gma in gammas: # For each value of C\n",
    "        for c in cs:\n",
    "            svc_varied = SVC(kernel='rbf', gamma=gma, C=c) # Make a new SVC model\n",
    "            svc_varied.fit(X_tr_standard[train], y_tr[train]) # Fit to the training samples\n",
    "            svc_score_array[i][j][k] = svc_varied.score(X_tr_standard[test], y_tr[test]) # Get prediction score\n",
    "            k += 1\n",
    "        j += 1\n",
    "        k = 0\n",
    "    i += 1\n",
    "    j = 0\n",
    "    \n",
    "    \n",
    "# Compute means across folds\n",
    "mean_score = np.zeros((4,4))\n",
    "for jdx in range(len(gammas)):\n",
    "    for kdx in range( len(cs) ):\n",
    "        mean_score[jdx][kdx] = np.mean([svc_score_array[0][jdx][kdx], svc_score_array[1][jdx][kdx], svc_score_array[2][jdx][kdx]])\n",
    "\n",
    "#gammas = np.reshape(gammas, (4,))\n",
    "#cs = np.reshape(cs, (4,))\n",
    "print(mean_score.shape) #= np.reshape(mean_score, (4,4))\n"
   ]
  },
  {
   "cell_type": "code",
   "execution_count": 92,
   "metadata": {},
   "outputs": [
    {
     "name": "stdout",
     "output_type": "stream",
     "text": [
      "The best accuracy score is : 0.712362574494\n",
      "Given by Gamma = 0.001, and C = 1.0\n",
      "[[ 0.55088187  0.55088187  0.68130986  0.70997754]\n",
      " [ 0.55088187  0.68322693  0.71236257  0.69086986]\n",
      " [ 0.55088187  0.55088187  0.64595572  0.66363005]\n",
      " [ 0.55088187  0.55088187  0.55088187  0.55088187]]\n"
     ]
    },
    {
     "data": {
      "image/png": "[encoded data removed]",
      "text/plain": [
       "<matplotlib.figure.Figure at 0x7fac3add23d0>"
      ]
     },
     "metadata": {},
     "output_type": "display_data"
    },
    {
     "data": {
      "text/plain": [
       "<matplotlib.figure.Figure at 0x7fac3add25d0>"
      ]
     },
     "metadata": {},
     "output_type": "display_data"
    }
   ],
   "source": [
    "# Finding the optimal score\n",
    "max_score_idxs = np.argmax(mean_score, axis=0)\n",
    "max_scores = []\n",
    "\n",
    "for idx in range(4):\n",
    "    max_scores.append(mean_score[max_score_idxs[idx]][idx])\n",
    "\n",
    "best_score_idx = np.argmax(max_scores)\n",
    "best_score = max_scores[best_score_idx]\n",
    "best_score_row = max_score_idxs[best_score_idx] # Gamma index\n",
    "best_score_col = best_score_idx # C index\n",
    "\n",
    "print(\"The best accuracy score is : {}\".format(best_score))\n",
    "print(\"Given by Gamma = {}, and C = {}\".format(gammas[best_score_row], cs[best_score_col]))\n",
    "\n",
    "#Plotting the heatmap\n",
    "plt.figure(7)\n",
    "f, ax7 = plt.subplots()\n",
    "sns.heatmap(mean_score, ax=ax7)\n",
    "ax7.set_xlabel(\"C value\")\n",
    "ax7.set_ylabel(\"Gamma value\")\n",
    "ax7.set_xticklabels(cs)\n",
    "ax7.set_yticklabels(gammas)\n",
    "ax7.set_title(\"Heatmap showing accuracy for various C/Gamma pairs\")\n",
    "print(mean_score)"
   ]
  },
  {
   "cell_type": "code",
   "execution_count": 93,
   "metadata": {},
   "outputs": [
    {
     "name": "stdout",
     "output_type": "stream",
     "text": [
      "SVC accuracy scores for optimal C and Gamma: \n",
      "On training : 0.834687052078\n",
      "On validation : 0.721473495058\n"
     ]
    }
   ],
   "source": [
    "svc_opt = SVC(kernel='rbf', gamma=gammas[best_score_row], C=cs[best_score_col])\n",
    "svc_opt.fit(X_tr_standard, y_tr)\n",
    "svc_opt_tr_score = svc_opt.score(X_tr_standard, y_tr)\n",
    "svc_opt_val_score = svc_opt.score(X_val_standard, y_val)\n",
    "\n",
    "print(\"SVC accuracy scores for optimal C and Gamma: \")\n",
    "print(\"On training : {}\".format(svc_opt_tr_score))\n",
    "print(\"On validation : {}\".format(svc_opt_val_score))"
   ]
  },
  {
   "cell_type": "markdown",
   "metadata": {},
   "source": [
    "### ========== Question 1.24 --- [3 marks] ==========\n",
    "Is the classification accuracy on the validation set higher than in previous questions (1.22-1.23)? If not, can you explain why? Can you think of a way of further improving the performance of the classifier? You don't need to implement your suggestion at this stage. Would there be any associated problems with your suggested approach? "
   ]
  },
  {
   "cell_type": "markdown",
   "metadata": {},
   "source": [
    "The accuracy on the validation set is slightly lower in 1.23 than it was in 1.22. While we may have the optimal C and Gamma from the logspaces we set, there may be better ones outside this logspace. We could increase the number of splits in the logspaces and test more values. This becomes increasingly computationally complex (n * m time where n and m are the sizes of cs and gammas respectively) as we try more values, potentially making it unfeasible."
   ]
  },
  {
   "cell_type": "markdown",
   "metadata": {},
   "source": [
    "### ========== Question 1.25 --- [5 marks] ==========\n",
    "Now we want to evaluate the performance of an SVM classifier with polynomial kernel. Once again, we will tune the `degree` parameter by using cross-validation (similarly to what we did in Questions 1.21 and 1.22).\n",
    "\n",
    "By using the `K-fold` iterator from Question 1.11 and training data only, estimate the classification accuracy of polynomial SVM classifier, while you vary the `degree` parameter in the range `np.arange(1,8)`. \n",
    "\n",
    "Plot the mean cross-validated classification accuracy against the polynomial degree. Display the highest obtained mean accuracy score and the value of the `degree` parameter which yielded it. Label axes appropriately. \n",
    "\n",
    "Finally, train a classifier by using the optimal value for this parameter (without using cross-validation at this stage) and report the classification accuracy on the training and validation sets. "
   ]
  },
  {
   "cell_type": "code",
   "execution_count": 99,
   "metadata": {},
   "outputs": [
    {
     "name": "stdout",
     "output_type": "stream",
     "text": [
      "The highest mean classification accuracy was : [ 0.70281011]\n",
      "The polynomial degree which provided this was : 1\n"
     ]
    },
    {
     "data": {
      "text/plain": [
       "<matplotlib.figure.Figure at 0x7fac34f43850>"
      ]
     },
     "metadata": {},
     "output_type": "display_data"
    },
    {
     "data": {
      "image/png": "[encoded data removed]",
      "text/plain": [
       "<matplotlib.figure.Figure at 0x7fac39b60550>"
      ]
     },
     "metadata": {},
     "output_type": "display_data"
    }
   ],
   "source": [
    "degrees = np.arange(1,8)\n",
    "\n",
    "i = 0\n",
    "j = 0\n",
    "\n",
    "svc_score_array = np.zeros((3, len(degrees)))\n",
    "for train, test in k_fold.split(X_tr_standard): # for each fold\n",
    "    for d in degrees: # For each value of degree\n",
    "        svc_degree = SVC(kernel='poly', degree=d) # Make a new SVC model\n",
    "        svc_degree.fit(X_tr_standard[train], y_tr[train]) # Fit to the training samples\n",
    "        svc_score_array[i][j] = svc_degree.score(X_tr_standard[test], y_tr[test]) # Get prediction score\n",
    "        j+=1\n",
    "        \n",
    "    i += 1\n",
    "    j = 0\n",
    "    \n",
    "# Compute mean across folds\n",
    "mean_score = np.zeros((len(degrees), 1))\n",
    "for idx in range(len(degrees)):\n",
    "    mean_score[idx] = np.mean([svc_score_array[0][idx], svc_score_array[1][idx], svc_score_array[2][idx]])\n",
    "#\n",
    "#degrees = np.reshape(svm_gammas, (10,))\n",
    "#mean_score = np.reshape(mean_score, (10,))\n",
    "\n",
    "plt.figure(8)\n",
    "f, ax8 = plt.subplots()\n",
    "sns.regplot(degrees, mean_score, fit_reg=False, ax=ax8)\n",
    "ax8.set_title(\"Classification accuracy against potential values for degree : SVM (Poly)\")\n",
    "ax8.set_xlabel(\"Degree\")\n",
    "ax8.set_ylabel(\"Mean classification accuracy score\")\n",
    "\n",
    "best_deg_idx = np.argmax(mean_score)\n",
    "best_deg = degrees[best_deg_idx]\n",
    "best_deg_score = mean_score[best_deg_idx]\n",
    "\n",
    "print(\"The highest mean classification accuracy was : {}\".format(best_deg_score))\n",
    "print(\"The polynomial degree which provided this was : {}\".format(best_deg))"
   ]
  },
  {
   "cell_type": "markdown",
   "metadata": {},
   "source": [
    "### ========== Question 1.26 --- [4 marks] ==========\n",
    "\n",
    "You might have noticted that so far, we have used cross-validation for optimising the various tuning parameters (e.g. regularisation parameter in logistic regression, SVM kernel parameters) rather than hold-out validation, although we did have access to a validation set. Why do you think this is a good/bad idea? Give one advantage and one disadvantage of the two different approaches. Which one would you trust more in practice?"
   ]
  },
  {
   "cell_type": "markdown",
   "metadata": {},
   "source": [
    "I think using cross-validation here is a good idea. Cross-validation seems to give a much better approximation to the data (much better model) than basic hold-out validation, though it has proved to be much more computationally expensive (the cross-validation optimization has taken a while to run). In this case we had access to the same sized training set for both CV and HO. Hold-out validation does have the advantage of being computationally and theoretically simple, although one runs the risk of overfitting to the test set and being unable to handle new data."
   ]
  },
  {
   "cell_type": "markdown",
   "metadata": {},
   "source": [
    "### ========== Question 1.27 --- [6 marks] ==========\n",
    "\n",
    "Reload the full training and validation data that contain all indicator variables for all object categories. Remove the `imgId` attribute but keep all of the class indicator variables in the dataset this time. Your training features should include all attributes except `is_person` which should be your target variable. \n",
    "\n",
    "Once again, use a [StandardScaler](http://scikit-learn.org/0.17/modules/generated/sklearn.preprocessing.StandardScaler.html) to standardise your training and validation features. Then train a Random Forest Classifier by using the entropy `criterion`, 500 `n_estimators`, and also set the `random_state` to 31. Report the classification accuracy on the training and validation sets.\n",
    "\n",
    "Similarly to what we did in Question 1.18, order the features by decreasing importance and display the 50 most important features. \n",
    "\n",
    "Finally, answer the following questions:\n",
    "* What do you notice by looking at the list of the best 50 features?\n",
    "* How does the performance differ with respect to the case when the additional class indicator variables are not present (Question 1.16)? Relate your observations to the observed feature ranking.\n",
    "* Would it be easy to make use of the results in practice? Briey explain your reasoning.\n",
    "\n",
    "*(Hint: you might want to look at some of the [images](http://www.inf.ed.ac.uk/teaching/courses/iaml/2014/assts/asst3/images.html) to justify your explanations.)*"
   ]
  },
  {
   "cell_type": "code",
   "execution_count": 102,
   "metadata": {},
   "outputs": [
    {
     "name": "stdout",
     "output_type": "stream",
     "text": [
      "Fifty most important features in the training set:\n",
      "Index([u'is_cat', u'is_bird', u'dim21', u'dim51', u'dim360', u'dim4', u'dim76',\n",
      "       u'dim398', u'dim283', u'dim479', u'dim263', u'dim343', u'dim423',\n",
      "       u'dim485', u'dim254', u'dim461', u'dim222', u'dim356', u'dim74',\n",
      "       u'dim288', u'dim214', u'dim348', u'dim330', u'dim217', u'dim483',\n",
      "       u'dim90', u'dim274', u'dim347', u'dim17', u'dim427', u'dim35',\n",
      "       u'dim326', u'dim73', u'dim312', u'dim48', u'dim25', u'dim315',\n",
      "       u'dim322', u'dim329', u'dim500', u'dim134', u'dim206', u'is_aeroplane',\n",
      "       u'dim96', u'dim353', u'dim442', u'dim77', u'dim440', u'dim171',\n",
      "       u'dim154'],\n",
      "      dtype='object')\n",
      "Accuracy scores on training and validation sets:\n",
      "On training : 1.0\n",
      "On validation : 0.711590296496\n"
     ]
    }
   ],
   "source": [
    "#Load the datasets into relevant variables\n",
    "data_path_train_A = os.path.join(os.getcwd(), 'datasets', 'train_images_partA.csv')\n",
    "train_A = pd.read_csv(data_path_train_A, delimiter = ',')\n",
    "\n",
    "data_path_valid_A = os.path.join(os.getcwd(), 'datasets', 'valid_images_partA.csv')\n",
    "valid_A = pd.read_csv(data_path_valid_A, delimiter = ',')\n",
    "\n",
    "# Remove ImgId from training and validation sets\n",
    "train_A.drop(['imgId'], axis=1, inplace=True)\n",
    "valid_A.drop(['imgId'], axis=1, inplace=True)\n",
    "\n",
    "# Set up feature and target sets\n",
    "X_tr = train_A.drop(['is_person'], axis=1, inplace=False)\n",
    "X_val = valid_A.drop(['is_person'], axis=1, inplace=False)\n",
    "\n",
    "y_tr = train_A['is_person']\n",
    "y_val = valid_A['is_person']\n",
    "\n",
    "# Standardise the features\n",
    "standard_scaler = StandardScaler() # Init\n",
    "standard_scaler.fit(X_tr) # fit to training features\n",
    "X_tr_standard = standard_scaler.transform(X_tr)\n",
    "X_val_standard = standard_scaler.transform(X_val)\n",
    "\n",
    "# Train a Random Forest\n",
    "rfc = RandomForestClassifier(criterion='entropy', n_estimators=500, random_state=31)\n",
    "rfc.fit(X_tr_standard, y_tr)\n",
    "\n",
    "# Get feature importances\n",
    "importances = rfc.feature_importances_\n",
    "importance_map = zip(importances, range(len(importances)))\n",
    "importance_map = list(reversed(sorted(importance_map, key=lambda x: x[0])))\n",
    "index_list = [ y for (x,y) in importance_map ][:50]\n",
    "\n",
    "# NOTE: again used X_tr.columns to get column headers\n",
    "\n",
    "fifty_most_important = X_tr.columns[index_list]\n",
    "\n",
    "print(\"Fifty most important features in the training set:\")\n",
    "print(fifty_most_important)\n",
    "\n",
    "# Get accuracy scores\n",
    "rfc_training_score = rfc.score(X_tr_standard, y_tr)\n",
    "rfc_validation_score = rfc.score(X_val_standard, y_val)\n",
    "\n",
    "print(\"Accuracy scores on training and validation sets:\")\n",
    "print(\"On training : {}\".format(rfc_training_score))\n",
    "print(\"On validation : {}\".format(rfc_validation_score))\n",
    "\n"
   ]
  },
  {
   "cell_type": "markdown",
   "metadata": {},
   "source": [
    "The fifty most important features contain a couple of the other object identifier features. This would suggest that the presence/absence of these other objects would increase/decrease the likelihood of the image containing a person. The accuracy on the training set is the same, but the accuracy on the validation set is slightly higher, meaning that the classifier was able to make better decisions based on the class indicator variables presence. Making use of this fact is simple enough in theory, we figure out which class indicators are useful and keep them, dropping the rest, however in practice this may be harder to achieve. "
   ]
  },
  {
   "cell_type": "markdown",
   "metadata": {},
   "source": [
    "## Mini challenge [30%]"
   ]
  },
  {
   "cell_type": "markdown",
   "metadata": {},
   "source": [
    "*Important: You are allowed to write up to a maximum of 600 words in this part of the assignment. The thoroughness of the exploration and the quality of the resulting discussion is just as important as the final classification performance of your chosen method(s) and credit will be divided accordingly.*"
   ]
  },
  {
   "cell_type": "markdown",
   "metadata": {},
   "source": [
    "In this final part of the assignment we will have a mini object-recognition challenge. Using the data provided you are asked to find the best classiffier for the person/no person classification task. You can apply any preprocessing steps to the data that you think fit and employ any classifier you like (with the provison that you can explain what the classifier is/preprocessing steps are doing). You can also employ any lessons learnt during the course, either from previous Assignments, the Labs or the lecture material to try and squeeze out as much performance as you possibly can. The only restriction is that all steps must be performed in `Python` by using the `numpy`, `pandas` and `sklearn` packages. You can also make use of `matplotlib` and `seaborn` for visualisation. "
   ]
  },
  {
   "cell_type": "markdown",
   "metadata": {},
   "source": [
    "**Important:** The classification performance metric that we will use for this part is the *cross-entropy* or *logarithmic loss* (see Lab 4). You should familiarise yourself with the metric by reading the `sklearn` [user guide](http://scikit-learn.org/0.17/modules/model_evaluation.html#log-loss) and [documentation](http://scikit-learn.org/0.17/modules/generated/sklearn.metrics.log_loss.html#sklearn.metrics.log_loss). To estimate this metric you will need to evaluate probability outputs, as opposed to discrete predictions which we have used so far to compute classification accuracies. Most models in `sklearn` implement a `predict_proba()` method which returns the probabilities for each class. For instance, if your test set consists of `N` datapoints and there are `K` classes, the method will return a `N` x `K` matrix."
   ]
  },
  {
   "cell_type": "markdown",
   "metadata": {},
   "source": [
    "We provide you with three new data sets: a training set (`train_images_partB.csv`), a validation set (`valid_images_partB.csv`), and a test set (`test_images_partB.csv`). You must use the former two for training and evaluating your models (as you see fit). Once you have chosen your favourite model (and pre-processing steps) you should apply it to the test set (for which no labels are provided). Estimate the posterior proabilities for the data points in the test set and submit your results as part of your answer. Your results will be evaluated in terms of the logarithmic loss metric. You also need to submit a brief description of the approaches you considered, your suggested final approach, and a short explanation of why you chose it. The thoroughness of the exploration and the quality of the resulting discussion is just as important as the final score of your chosen method(s) and credit will be divided accordingly.\n",
    "\n",
    "*Hint: Feature engineering, feature combination, model combination and model parameter optimization can significantly improve performance.*"
   ]
  },
  {
   "cell_type": "markdown",
   "metadata": {},
   "source": [
    "**How to submit your results**: Store the estimated probabilities for the data points in the test set in a 2D numpy array. Then execute the provided cell at the end of this notebook which uses a provided `save_predictions` function to export your results into a `.txt` file (the function will return an error if the provided array has not the right shape). The `.txt` file will be saved where your notebook lives. Submit this file along with your notebook as detailed at the top of this file."
   ]
  },
  {
   "cell_type": "markdown",
   "metadata": {},
   "source": [
    "*Your answer goes here (max. 600 words)*\n",
    "\n"
   ]
  },
  {
   "cell_type": "code",
   "execution_count": null,
   "metadata": {
    "collapsed": true
   },
   "outputs": [],
   "source": [
    "# Your code goes here"
   ]
  },
  {
   "cell_type": "code",
   "execution_count": null,
   "metadata": {
    "collapsed": true
   },
   "outputs": [],
   "source": [
    "# Execute this cell to export your results\n",
    "from numpy import savetxt\n",
    "def save_predictions(pred_proba):\n",
    "    if pred_proba.shape != (1114,2):\n",
    "        raise ValueError('Predicted probabilities array is not the right shape.')\n",
    "    \n",
    "    savetxt('assignment_3_predictions.txt', pred_proba)\n",
    "\n",
    "# You need to replace \"test_images_partB_pred_proba\"\n",
    "# with the name of the array which contains the probability \n",
    "# estimates for the data in the test set.\n",
    "save_predictions(test_images_partB_pred_proba) "
   ]
  },
  {
   "cell_type": "markdown",
   "metadata": {
    "collapsed": true
   },
   "source": [
    "# Appendix"
   ]
  },
  {
   "cell_type": "markdown",
   "metadata": {},
   "source": [
    "## More information about visual words"
   ]
  },
  {
   "cell_type": "markdown",
   "metadata": {},
   "source": [
    "Visual words are based on [Scale-invariant feature transforms (SIFT)](https://en.wikipedia.org/wiki/Scale-invariant_feature_transform). SIFT features are essentially local orientation histograms and capture the properties of small image regions. They possess attractive invariance properties which make them well suited for our task (you can read more about SIFT features in [D.Lowe, IJCV 60(2):91- 110, 2004](http://link.springer.com/article/10.1023/B:VISI.0000029664.99615.94), but the details don't matter for the purpose of this assignment). Each SIFT feature is a 128 dimensional vector. From each image many SIFT features are extracted, typically > 2500 per image (features are extracted at regular intervals using a 15 pixel grid and at 4 different scales). To obtain visual words a representative subset of all extracted SIFT features from all images is chosen and clustered with k-means using 500 centres (such use of the k-means algorithm will be discussed in detail during the lecture). These 500 cluster centres form our visual words. The representation of a single image is obtained by first assigning each SIFT feature extracted from the image to the appropriate cluster (i.e. we determine the visual word corresponding to each feature by picking the closest cluster centre). We then count the number of features from that image assigned to each cluster (i.e. we determine how often each visual word is present in the image). This results in a 500 dimensional count vector for each image (one dimension for each visual word). The normalized version of this count vector gives the final representation of the image (normalized means that we divide the count vector by the total number of visual words in the image, i.e. the normalized counts sum to 1 for each image)"
   ]
  }
 ],
 "metadata": {
  "anaconda-cloud": {},
  "kernelspec": {
   "display_name": "Python 2",
   "language": "python",
   "name": "python2"
  },
  "language_info": {
   "codemirror_mode": {
    "name": "ipython",
    "version": 2
   },
   "file_extension": ".py",
   "mimetype": "text/x-python",
   "name": "python",
   "nbconvert_exporter": "python",
   "pygments_lexer": "ipython2",
   "version": "2.7.13"
  }
 },
 "nbformat": 4,
 "nbformat_minor": 1
}
